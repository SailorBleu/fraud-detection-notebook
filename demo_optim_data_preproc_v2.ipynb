{
  "cells": [
    {
      "cell_type": "markdown",
      "metadata": {
        "id": "view-in-github",
        "colab_type": "text"
      },
      "source": [
        "<a href=\"https://colab.research.google.com/github/SailorBleu/fraud-detection-notebook/blob/main/demo_optim_data_preproc_v2.ipynb\" target=\"_parent\"><img src=\"https://colab.research.google.com/assets/colab-badge.svg\" alt=\"Open In Colab\"/></a>"
      ]
    },
    {
      "cell_type": "markdown",
      "metadata": {
        "id": "wXwW1mDWzYfs"
      },
      "source": [
        "## Assignment 3B: Comparing Optimized Pre-Processing for Discrimination Prevention Across Different Models\n",
        "\n",
        "### <center> **LogisticRegression**\n"
      ]
    },
    {
      "cell_type": "code",
      "execution_count": 66,
      "metadata": {
        "id": "XI_ep9BHzYfv",
        "colab": {
          "base_uri": "https://localhost:8080/"
        },
        "outputId": "09a6c4b1-3db2-4e12-c604-e4e9e269b8b5",
        "collapsed": true
      },
      "outputs": [
        {
          "output_type": "stream",
          "name": "stdout",
          "text": [
            "Requirement already satisfied: aif360[all] in /usr/local/lib/python3.10/dist-packages (0.6.1)\n",
            "Requirement already satisfied: numpy>=1.16 in /usr/local/lib/python3.10/dist-packages (from aif360[all]) (1.26.4)\n",
            "Requirement already satisfied: scipy>=1.2.0 in /usr/local/lib/python3.10/dist-packages (from aif360[all]) (1.13.1)\n",
            "Requirement already satisfied: pandas>=0.24.0 in /usr/local/lib/python3.10/dist-packages (from aif360[all]) (2.2.2)\n",
            "Requirement already satisfied: scikit-learn>=1.0 in /usr/local/lib/python3.10/dist-packages (from aif360[all]) (1.5.2)\n",
            "Requirement already satisfied: matplotlib in /usr/local/lib/python3.10/dist-packages (from aif360[all]) (3.1.3)\n",
            "Requirement already satisfied: skorch in /usr/local/lib/python3.10/dist-packages (from aif360[all]) (1.0.0)\n",
            "Requirement already satisfied: jupyter in /usr/local/lib/python3.10/dist-packages (from aif360[all]) (1.1.1)\n",
            "Requirement already satisfied: sphinx-rtd-theme in /usr/local/lib/python3.10/dist-packages (from aif360[all]) (3.0.2)\n",
            "Requirement already satisfied: igraph[plotting] in /usr/local/lib/python3.10/dist-packages (from aif360[all]) (0.11.8)\n",
            "Requirement already satisfied: lime in /usr/local/lib/python3.10/dist-packages (from aif360[all]) (0.2.0.1)\n",
            "Requirement already satisfied: tqdm in /usr/local/lib/python3.10/dist-packages (from aif360[all]) (4.66.6)\n",
            "Requirement already satisfied: fairlearn~=0.7 in /usr/local/lib/python3.10/dist-packages (from aif360[all]) (0.11.0)\n",
            "Requirement already satisfied: colorama in /usr/local/lib/python3.10/dist-packages (from aif360[all]) (0.4.6)\n",
            "Requirement already satisfied: tensorflow>=1.13.1 in /usr/local/lib/python3.10/dist-packages (from aif360[all]) (2.17.1)\n",
            "Requirement already satisfied: sphinx in /usr/local/lib/python3.10/dist-packages (from aif360[all]) (8.1.3)\n",
            "Requirement already satisfied: mlxtend in /usr/local/lib/python3.10/dist-packages (from aif360[all]) (0.23.3)\n",
            "Requirement already satisfied: inFairness>=0.2.2 in /usr/local/lib/python3.10/dist-packages (from aif360[all]) (0.2.3)\n",
            "Requirement already satisfied: pytest-cov>=2.8.1 in /usr/local/lib/python3.10/dist-packages (from aif360[all]) (6.0.0)\n",
            "Requirement already satisfied: ipympl in /usr/local/lib/python3.10/dist-packages (from aif360[all]) (0.9.4)\n",
            "Requirement already satisfied: torch in /usr/local/lib/python3.10/dist-packages (from aif360[all]) (2.5.1+cu121)\n",
            "Requirement already satisfied: jinja2>3.1.0 in /usr/local/lib/python3.10/dist-packages (from aif360[all]) (3.1.4)\n",
            "Requirement already satisfied: adversarial-robustness-toolbox>=1.0.0 in /usr/local/lib/python3.10/dist-packages (from aif360[all]) (1.18.2)\n",
            "Requirement already satisfied: BlackBoxAuditing in /usr/local/lib/python3.10/dist-packages (from aif360[all]) (0.1.54)\n",
            "Requirement already satisfied: seaborn in /usr/local/lib/python3.10/dist-packages (from aif360[all]) (0.13.2)\n",
            "Requirement already satisfied: rpy2 in /usr/local/lib/python3.10/dist-packages (from aif360[all]) (3.4.2)\n",
            "Requirement already satisfied: lightgbm in /usr/local/lib/python3.10/dist-packages (from aif360[all]) (4.5.0)\n",
            "Requirement already satisfied: pytest>=3.5 in /usr/local/lib/python3.10/dist-packages (from aif360[all]) (8.3.3)\n",
            "Requirement already satisfied: pot in /usr/local/lib/python3.10/dist-packages (from aif360[all]) (0.9.5)\n",
            "Requirement already satisfied: cvxpy>=1.0 in /usr/local/lib/python3.10/dist-packages (from aif360[all]) (1.5.4)\n",
            "Requirement already satisfied: six in /usr/local/lib/python3.10/dist-packages (from adversarial-robustness-toolbox>=1.0.0->aif360[all]) (1.16.0)\n",
            "Requirement already satisfied: setuptools in /usr/local/lib/python3.10/dist-packages (from adversarial-robustness-toolbox>=1.0.0->aif360[all]) (75.1.0)\n",
            "Requirement already satisfied: osqp>=0.6.2 in /usr/local/lib/python3.10/dist-packages (from cvxpy>=1.0->aif360[all]) (0.6.7.post3)\n",
            "Requirement already satisfied: ecos>=2 in /usr/local/lib/python3.10/dist-packages (from cvxpy>=1.0->aif360[all]) (2.0.14)\n",
            "Requirement already satisfied: clarabel>=0.5.0 in /usr/local/lib/python3.10/dist-packages (from cvxpy>=1.0->aif360[all]) (0.9.0)\n",
            "Requirement already satisfied: scs>=3.2.4.post1 in /usr/local/lib/python3.10/dist-packages (from cvxpy>=1.0->aif360[all]) (3.2.7)\n",
            "Requirement already satisfied: MarkupSafe>=2.0 in /usr/local/lib/python3.10/dist-packages (from jinja2>3.1.0->aif360[all]) (3.0.2)\n",
            "Requirement already satisfied: python-dateutil>=2.8.2 in /usr/local/lib/python3.10/dist-packages (from pandas>=0.24.0->aif360[all]) (2.8.2)\n",
            "Requirement already satisfied: pytz>=2020.1 in /usr/local/lib/python3.10/dist-packages (from pandas>=0.24.0->aif360[all]) (2024.2)\n",
            "Requirement already satisfied: tzdata>=2022.7 in /usr/local/lib/python3.10/dist-packages (from pandas>=0.24.0->aif360[all]) (2024.2)\n",
            "Requirement already satisfied: iniconfig in /usr/local/lib/python3.10/dist-packages (from pytest>=3.5->aif360[all]) (2.0.0)\n",
            "Requirement already satisfied: packaging in /usr/local/lib/python3.10/dist-packages (from pytest>=3.5->aif360[all]) (24.2)\n",
            "Requirement already satisfied: pluggy<2,>=1.5 in /usr/local/lib/python3.10/dist-packages (from pytest>=3.5->aif360[all]) (1.5.0)\n",
            "Requirement already satisfied: exceptiongroup>=1.0.0rc8 in /usr/local/lib/python3.10/dist-packages (from pytest>=3.5->aif360[all]) (1.2.2)\n",
            "Requirement already satisfied: tomli>=1 in /usr/local/lib/python3.10/dist-packages (from pytest>=3.5->aif360[all]) (2.1.0)\n",
            "Requirement already satisfied: coverage>=7.5 in /usr/local/lib/python3.10/dist-packages (from coverage[toml]>=7.5->pytest-cov>=2.8.1->aif360[all]) (7.6.8)\n",
            "Requirement already satisfied: joblib>=1.2.0 in /usr/local/lib/python3.10/dist-packages (from scikit-learn>=1.0->aif360[all]) (1.4.2)\n",
            "Requirement already satisfied: threadpoolctl>=3.1.0 in /usr/local/lib/python3.10/dist-packages (from scikit-learn>=1.0->aif360[all]) (3.5.0)\n",
            "Requirement already satisfied: absl-py>=1.0.0 in /usr/local/lib/python3.10/dist-packages (from tensorflow>=1.13.1->aif360[all]) (1.4.0)\n",
            "Requirement already satisfied: astunparse>=1.6.0 in /usr/local/lib/python3.10/dist-packages (from tensorflow>=1.13.1->aif360[all]) (1.6.3)\n",
            "Requirement already satisfied: flatbuffers>=24.3.25 in /usr/local/lib/python3.10/dist-packages (from tensorflow>=1.13.1->aif360[all]) (24.3.25)\n",
            "Requirement already satisfied: gast!=0.5.0,!=0.5.1,!=0.5.2,>=0.2.1 in /usr/local/lib/python3.10/dist-packages (from tensorflow>=1.13.1->aif360[all]) (0.6.0)\n",
            "Requirement already satisfied: google-pasta>=0.1.1 in /usr/local/lib/python3.10/dist-packages (from tensorflow>=1.13.1->aif360[all]) (0.2.0)\n",
            "Requirement already satisfied: h5py>=3.10.0 in /usr/local/lib/python3.10/dist-packages (from tensorflow>=1.13.1->aif360[all]) (3.12.1)\n",
            "Requirement already satisfied: libclang>=13.0.0 in /usr/local/lib/python3.10/dist-packages (from tensorflow>=1.13.1->aif360[all]) (18.1.1)\n",
            "Requirement already satisfied: ml-dtypes<0.5.0,>=0.3.1 in /usr/local/lib/python3.10/dist-packages (from tensorflow>=1.13.1->aif360[all]) (0.4.1)\n",
            "Requirement already satisfied: opt-einsum>=2.3.2 in /usr/local/lib/python3.10/dist-packages (from tensorflow>=1.13.1->aif360[all]) (3.4.0)\n",
            "Requirement already satisfied: protobuf!=4.21.0,!=4.21.1,!=4.21.2,!=4.21.3,!=4.21.4,!=4.21.5,<5.0.0dev,>=3.20.3 in /usr/local/lib/python3.10/dist-packages (from tensorflow>=1.13.1->aif360[all]) (4.25.5)\n",
            "Requirement already satisfied: requests<3,>=2.21.0 in /usr/local/lib/python3.10/dist-packages (from tensorflow>=1.13.1->aif360[all]) (2.32.3)\n",
            "Requirement already satisfied: termcolor>=1.1.0 in /usr/local/lib/python3.10/dist-packages (from tensorflow>=1.13.1->aif360[all]) (2.5.0)\n",
            "Requirement already satisfied: typing-extensions>=3.6.6 in /usr/local/lib/python3.10/dist-packages (from tensorflow>=1.13.1->aif360[all]) (4.12.2)\n",
            "Requirement already satisfied: wrapt>=1.11.0 in /usr/local/lib/python3.10/dist-packages (from tensorflow>=1.13.1->aif360[all]) (1.16.0)\n",
            "Requirement already satisfied: grpcio<2.0,>=1.24.3 in /usr/local/lib/python3.10/dist-packages (from tensorflow>=1.13.1->aif360[all]) (1.68.0)\n",
            "Requirement already satisfied: tensorboard<2.18,>=2.17 in /usr/local/lib/python3.10/dist-packages (from tensorflow>=1.13.1->aif360[all]) (2.17.1)\n",
            "Requirement already satisfied: keras>=3.2.0 in /usr/local/lib/python3.10/dist-packages (from tensorflow>=1.13.1->aif360[all]) (3.5.0)\n",
            "Requirement already satisfied: tensorflow-io-gcs-filesystem>=0.23.1 in /usr/local/lib/python3.10/dist-packages (from tensorflow>=1.13.1->aif360[all]) (0.37.1)\n",
            "Requirement already satisfied: filelock in /usr/local/lib/python3.10/dist-packages (from torch->aif360[all]) (3.16.1)\n",
            "Requirement already satisfied: networkx in /usr/local/lib/python3.10/dist-packages (from torch->aif360[all]) (3.4.2)\n",
            "Requirement already satisfied: fsspec in /usr/local/lib/python3.10/dist-packages (from torch->aif360[all]) (2024.10.0)\n",
            "Requirement already satisfied: sympy==1.13.1 in /usr/local/lib/python3.10/dist-packages (from torch->aif360[all]) (1.13.1)\n",
            "Requirement already satisfied: mpmath<1.4,>=1.1.0 in /usr/local/lib/python3.10/dist-packages (from sympy==1.13.1->torch->aif360[all]) (1.3.0)\n",
            "Requirement already satisfied: texttable>=1.6.2 in /usr/local/lib/python3.10/dist-packages (from igraph[plotting]; extra == \"all\"->aif360[all]) (1.7.0)\n",
            "Requirement already satisfied: cairocffi>=1.2.0 in /usr/local/lib/python3.10/dist-packages (from igraph[plotting]; extra == \"all\"->aif360[all]) (1.7.1)\n",
            "Requirement already satisfied: ipython-genutils in /usr/local/lib/python3.10/dist-packages (from ipympl->aif360[all]) (0.2.0)\n",
            "Requirement already satisfied: ipython<9 in /usr/local/lib/python3.10/dist-packages (from ipympl->aif360[all]) (7.34.0)\n",
            "Requirement already satisfied: ipywidgets<9,>=7.6.0 in /usr/local/lib/python3.10/dist-packages (from ipympl->aif360[all]) (7.7.1)\n",
            "Collecting matplotlib (from aif360[all])\n",
            "  Using cached matplotlib-3.9.2-cp310-cp310-manylinux_2_17_x86_64.manylinux2014_x86_64.whl.metadata (11 kB)\n",
            "Requirement already satisfied: pillow in /usr/local/lib/python3.10/dist-packages (from ipympl->aif360[all]) (11.0.0)\n",
            "Requirement already satisfied: traitlets<6 in /usr/local/lib/python3.10/dist-packages (from ipympl->aif360[all]) (5.7.1)\n",
            "Requirement already satisfied: contourpy>=1.0.1 in /usr/local/lib/python3.10/dist-packages (from matplotlib->aif360[all]) (1.3.1)\n",
            "Requirement already satisfied: cycler>=0.10 in /usr/local/lib/python3.10/dist-packages (from matplotlib->aif360[all]) (0.12.1)\n",
            "Requirement already satisfied: fonttools>=4.22.0 in /usr/local/lib/python3.10/dist-packages (from matplotlib->aif360[all]) (4.55.0)\n",
            "Requirement already satisfied: kiwisolver>=1.3.1 in /usr/local/lib/python3.10/dist-packages (from matplotlib->aif360[all]) (1.4.7)\n",
            "Requirement already satisfied: pyparsing>=2.3.1 in /usr/local/lib/python3.10/dist-packages (from matplotlib->aif360[all]) (3.2.0)\n",
            "Requirement already satisfied: notebook in /usr/local/lib/python3.10/dist-packages (from jupyter->aif360[all]) (6.5.5)\n",
            "Requirement already satisfied: jupyter-console in /usr/local/lib/python3.10/dist-packages (from jupyter->aif360[all]) (6.1.0)\n",
            "Requirement already satisfied: nbconvert in /usr/local/lib/python3.10/dist-packages (from jupyter->aif360[all]) (7.16.4)\n",
            "Requirement already satisfied: ipykernel in /usr/local/lib/python3.10/dist-packages (from jupyter->aif360[all]) (6.29.5)\n",
            "Requirement already satisfied: jupyterlab in /usr/local/lib/python3.10/dist-packages (from jupyter->aif360[all]) (4.3.1)\n",
            "Requirement already satisfied: scikit-image>=0.12 in /usr/local/lib/python3.10/dist-packages (from lime->aif360[all]) (0.24.0)\n",
            "Requirement already satisfied: cffi>=1.10.0 in /usr/local/lib/python3.10/dist-packages (from rpy2->aif360[all]) (1.17.1)\n",
            "Requirement already satisfied: tzlocal in /usr/local/lib/python3.10/dist-packages (from rpy2->aif360[all]) (5.2)\n",
            "Requirement already satisfied: tabulate>=0.7.7 in /usr/local/lib/python3.10/dist-packages (from skorch->aif360[all]) (0.9.0)\n",
            "Requirement already satisfied: sphinxcontrib-applehelp>=1.0.7 in /usr/local/lib/python3.10/dist-packages (from sphinx->aif360[all]) (2.0.0)\n",
            "Requirement already satisfied: sphinxcontrib-devhelp>=1.0.6 in /usr/local/lib/python3.10/dist-packages (from sphinx->aif360[all]) (2.0.0)\n",
            "Requirement already satisfied: sphinxcontrib-htmlhelp>=2.0.6 in /usr/local/lib/python3.10/dist-packages (from sphinx->aif360[all]) (2.1.0)\n",
            "Requirement already satisfied: sphinxcontrib-jsmath>=1.0.1 in /usr/local/lib/python3.10/dist-packages (from sphinx->aif360[all]) (1.0.1)\n",
            "Requirement already satisfied: sphinxcontrib-qthelp>=1.0.6 in /usr/local/lib/python3.10/dist-packages (from sphinx->aif360[all]) (2.0.0)\n",
            "Requirement already satisfied: sphinxcontrib-serializinghtml>=1.1.9 in /usr/local/lib/python3.10/dist-packages (from sphinx->aif360[all]) (2.0.0)\n",
            "Requirement already satisfied: Pygments>=2.17 in /usr/local/lib/python3.10/dist-packages (from sphinx->aif360[all]) (2.18.0)\n",
            "Requirement already satisfied: docutils<0.22,>=0.20 in /usr/local/lib/python3.10/dist-packages (from sphinx->aif360[all]) (0.21.2)\n",
            "Requirement already satisfied: snowballstemmer>=2.2 in /usr/local/lib/python3.10/dist-packages (from sphinx->aif360[all]) (2.2.0)\n",
            "Requirement already satisfied: babel>=2.13 in /usr/local/lib/python3.10/dist-packages (from sphinx->aif360[all]) (2.16.0)\n",
            "Requirement already satisfied: alabaster>=0.7.14 in /usr/local/lib/python3.10/dist-packages (from sphinx->aif360[all]) (1.0.0)\n",
            "Requirement already satisfied: imagesize>=1.3 in /usr/local/lib/python3.10/dist-packages (from sphinx->aif360[all]) (1.4.1)\n",
            "Requirement already satisfied: sphinxcontrib-jquery<5,>=4 in /usr/local/lib/python3.10/dist-packages (from sphinx-rtd-theme->aif360[all]) (4.1)\n",
            "Requirement already satisfied: wheel<1.0,>=0.23.0 in /usr/local/lib/python3.10/dist-packages (from astunparse>=1.6.0->tensorflow>=1.13.1->aif360[all]) (0.45.0)\n",
            "Requirement already satisfied: pycparser in /usr/local/lib/python3.10/dist-packages (from cffi>=1.10.0->rpy2->aif360[all]) (2.22)\n",
            "Requirement already satisfied: jedi>=0.16 in /usr/local/lib/python3.10/dist-packages (from ipython<9->ipympl->aif360[all]) (0.19.2)\n",
            "Requirement already satisfied: decorator in /usr/local/lib/python3.10/dist-packages (from ipython<9->ipympl->aif360[all]) (4.4.2)\n",
            "Requirement already satisfied: pickleshare in /usr/local/lib/python3.10/dist-packages (from ipython<9->ipympl->aif360[all]) (0.7.5)\n",
            "Requirement already satisfied: prompt-toolkit!=3.0.0,!=3.0.1,<3.1.0,>=2.0.0 in /usr/local/lib/python3.10/dist-packages (from ipython<9->ipympl->aif360[all]) (3.0.48)\n",
            "Requirement already satisfied: backcall in /usr/local/lib/python3.10/dist-packages (from ipython<9->ipympl->aif360[all]) (0.2.0)\n",
            "Requirement already satisfied: matplotlib-inline in /usr/local/lib/python3.10/dist-packages (from ipython<9->ipympl->aif360[all]) (0.1.7)\n",
            "Requirement already satisfied: pexpect>4.3 in /usr/local/lib/python3.10/dist-packages (from ipython<9->ipympl->aif360[all]) (4.9.0)\n",
            "Requirement already satisfied: widgetsnbextension~=3.6.0 in /usr/local/lib/python3.10/dist-packages (from ipywidgets<9,>=7.6.0->ipympl->aif360[all]) (3.6.10)\n",
            "Requirement already satisfied: jupyterlab-widgets>=1.0.0 in /usr/local/lib/python3.10/dist-packages (from ipywidgets<9,>=7.6.0->ipympl->aif360[all]) (3.0.13)\n",
            "Requirement already satisfied: comm>=0.1.1 in /usr/local/lib/python3.10/dist-packages (from ipykernel->jupyter->aif360[all]) (0.2.2)\n",
            "Requirement already satisfied: debugpy>=1.6.5 in /usr/local/lib/python3.10/dist-packages (from ipykernel->jupyter->aif360[all]) (1.8.0)\n",
            "Requirement already satisfied: jupyter-client>=6.1.12 in /usr/local/lib/python3.10/dist-packages (from ipykernel->jupyter->aif360[all]) (7.4.9)\n",
            "Requirement already satisfied: jupyter-core!=5.0.*,>=4.12 in /usr/local/lib/python3.10/dist-packages (from ipykernel->jupyter->aif360[all]) (5.7.2)\n",
            "Requirement already satisfied: nest-asyncio in /usr/local/lib/python3.10/dist-packages (from ipykernel->jupyter->aif360[all]) (1.6.0)\n",
            "Requirement already satisfied: psutil in /usr/local/lib/python3.10/dist-packages (from ipykernel->jupyter->aif360[all]) (5.9.5)\n",
            "Requirement already satisfied: pyzmq>=24 in /usr/local/lib/python3.10/dist-packages (from ipykernel->jupyter->aif360[all]) (24.0.1)\n",
            "Requirement already satisfied: tornado>=6.1 in /usr/local/lib/python3.10/dist-packages (from ipykernel->jupyter->aif360[all]) (6.3.3)\n",
            "Requirement already satisfied: rich in /usr/local/lib/python3.10/dist-packages (from keras>=3.2.0->tensorflow>=1.13.1->aif360[all]) (13.9.4)\n",
            "Requirement already satisfied: namex in /usr/local/lib/python3.10/dist-packages (from keras>=3.2.0->tensorflow>=1.13.1->aif360[all]) (0.0.8)\n",
            "Requirement already satisfied: optree in /usr/local/lib/python3.10/dist-packages (from keras>=3.2.0->tensorflow>=1.13.1->aif360[all]) (0.13.1)\n",
            "Requirement already satisfied: qdldl in /usr/local/lib/python3.10/dist-packages (from osqp>=0.6.2->cvxpy>=1.0->aif360[all]) (0.1.7.post4)\n",
            "Requirement already satisfied: charset-normalizer<4,>=2 in /usr/local/lib/python3.10/dist-packages (from requests<3,>=2.21.0->tensorflow>=1.13.1->aif360[all]) (3.4.0)\n",
            "Requirement already satisfied: idna<4,>=2.5 in /usr/local/lib/python3.10/dist-packages (from requests<3,>=2.21.0->tensorflow>=1.13.1->aif360[all]) (3.10)\n",
            "Requirement already satisfied: urllib3<3,>=1.21.1 in /usr/local/lib/python3.10/dist-packages (from requests<3,>=2.21.0->tensorflow>=1.13.1->aif360[all]) (2.2.3)\n",
            "Requirement already satisfied: certifi>=2017.4.17 in /usr/local/lib/python3.10/dist-packages (from requests<3,>=2.21.0->tensorflow>=1.13.1->aif360[all]) (2024.8.30)\n",
            "Requirement already satisfied: imageio>=2.33 in /usr/local/lib/python3.10/dist-packages (from scikit-image>=0.12->lime->aif360[all]) (2.36.0)\n",
            "Requirement already satisfied: tifffile>=2022.8.12 in /usr/local/lib/python3.10/dist-packages (from scikit-image>=0.12->lime->aif360[all]) (2024.9.20)\n",
            "Requirement already satisfied: lazy-loader>=0.4 in /usr/local/lib/python3.10/dist-packages (from scikit-image>=0.12->lime->aif360[all]) (0.4)\n",
            "Requirement already satisfied: markdown>=2.6.8 in /usr/local/lib/python3.10/dist-packages (from tensorboard<2.18,>=2.17->tensorflow>=1.13.1->aif360[all]) (3.7)\n",
            "Requirement already satisfied: tensorboard-data-server<0.8.0,>=0.7.0 in /usr/local/lib/python3.10/dist-packages (from tensorboard<2.18,>=2.17->tensorflow>=1.13.1->aif360[all]) (0.7.2)\n",
            "Requirement already satisfied: werkzeug>=1.0.1 in /usr/local/lib/python3.10/dist-packages (from tensorboard<2.18,>=2.17->tensorflow>=1.13.1->aif360[all]) (3.1.3)\n",
            "Requirement already satisfied: async-lru>=1.0.0 in /usr/local/lib/python3.10/dist-packages (from jupyterlab->jupyter->aif360[all]) (2.0.4)\n",
            "Requirement already satisfied: httpx>=0.25.0 in /usr/local/lib/python3.10/dist-packages (from jupyterlab->jupyter->aif360[all]) (0.27.2)\n",
            "Requirement already satisfied: jupyter-lsp>=2.0.0 in /usr/local/lib/python3.10/dist-packages (from jupyterlab->jupyter->aif360[all]) (2.2.5)\n",
            "Requirement already satisfied: jupyter-server<3,>=2.4.0 in /usr/local/lib/python3.10/dist-packages (from jupyterlab->jupyter->aif360[all]) (2.14.2)\n",
            "Requirement already satisfied: jupyterlab-server<3,>=2.27.1 in /usr/local/lib/python3.10/dist-packages (from jupyterlab->jupyter->aif360[all]) (2.27.3)\n",
            "Requirement already satisfied: notebook-shim>=0.2 in /usr/local/lib/python3.10/dist-packages (from jupyterlab->jupyter->aif360[all]) (0.2.4)\n",
            "Requirement already satisfied: beautifulsoup4 in /usr/local/lib/python3.10/dist-packages (from nbconvert->jupyter->aif360[all]) (4.12.3)\n",
            "Requirement already satisfied: bleach!=5.0.0 in /usr/local/lib/python3.10/dist-packages (from nbconvert->jupyter->aif360[all]) (6.2.0)\n",
            "Requirement already satisfied: defusedxml in /usr/local/lib/python3.10/dist-packages (from nbconvert->jupyter->aif360[all]) (0.7.1)\n",
            "Requirement already satisfied: jupyterlab-pygments in /usr/local/lib/python3.10/dist-packages (from nbconvert->jupyter->aif360[all]) (0.3.0)\n",
            "Requirement already satisfied: mistune<4,>=2.0.3 in /usr/local/lib/python3.10/dist-packages (from nbconvert->jupyter->aif360[all]) (3.0.2)\n",
            "Requirement already satisfied: nbclient>=0.5.0 in /usr/local/lib/python3.10/dist-packages (from nbconvert->jupyter->aif360[all]) (0.10.0)\n",
            "Requirement already satisfied: nbformat>=5.7 in /usr/local/lib/python3.10/dist-packages (from nbconvert->jupyter->aif360[all]) (5.10.4)\n",
            "Requirement already satisfied: pandocfilters>=1.4.1 in /usr/local/lib/python3.10/dist-packages (from nbconvert->jupyter->aif360[all]) (1.5.1)\n",
            "Requirement already satisfied: tinycss2 in /usr/local/lib/python3.10/dist-packages (from nbconvert->jupyter->aif360[all]) (1.4.0)\n",
            "Requirement already satisfied: argon2-cffi in /usr/local/lib/python3.10/dist-packages (from notebook->jupyter->aif360[all]) (23.1.0)\n",
            "Requirement already satisfied: Send2Trash>=1.8.0 in /usr/local/lib/python3.10/dist-packages (from notebook->jupyter->aif360[all]) (1.8.3)\n",
            "Requirement already satisfied: terminado>=0.8.3 in /usr/local/lib/python3.10/dist-packages (from notebook->jupyter->aif360[all]) (0.18.1)\n",
            "Requirement already satisfied: prometheus-client in /usr/local/lib/python3.10/dist-packages (from notebook->jupyter->aif360[all]) (0.21.0)\n",
            "Requirement already satisfied: nbclassic>=0.4.7 in /usr/local/lib/python3.10/dist-packages (from notebook->jupyter->aif360[all]) (1.1.0)\n",
            "Requirement already satisfied: webencodings in /usr/local/lib/python3.10/dist-packages (from bleach!=5.0.0->nbconvert->jupyter->aif360[all]) (0.5.1)\n",
            "Requirement already satisfied: anyio in /usr/local/lib/python3.10/dist-packages (from httpx>=0.25.0->jupyterlab->jupyter->aif360[all]) (3.7.1)\n",
            "Requirement already satisfied: httpcore==1.* in /usr/local/lib/python3.10/dist-packages (from httpx>=0.25.0->jupyterlab->jupyter->aif360[all]) (1.0.7)\n",
            "Requirement already satisfied: sniffio in /usr/local/lib/python3.10/dist-packages (from httpx>=0.25.0->jupyterlab->jupyter->aif360[all]) (1.3.1)\n",
            "Requirement already satisfied: h11<0.15,>=0.13 in /usr/local/lib/python3.10/dist-packages (from httpcore==1.*->httpx>=0.25.0->jupyterlab->jupyter->aif360[all]) (0.14.0)\n",
            "Requirement already satisfied: parso<0.9.0,>=0.8.4 in /usr/local/lib/python3.10/dist-packages (from jedi>=0.16->ipython<9->ipympl->aif360[all]) (0.8.4)\n",
            "Requirement already satisfied: entrypoints in /usr/local/lib/python3.10/dist-packages (from jupyter-client>=6.1.12->ipykernel->jupyter->aif360[all]) (0.4)\n",
            "Requirement already satisfied: platformdirs>=2.5 in /usr/local/lib/python3.10/dist-packages (from jupyter-core!=5.0.*,>=4.12->ipykernel->jupyter->aif360[all]) (4.3.6)\n",
            "Requirement already satisfied: jupyter-events>=0.9.0 in /usr/local/lib/python3.10/dist-packages (from jupyter-server<3,>=2.4.0->jupyterlab->jupyter->aif360[all]) (0.10.0)\n",
            "Requirement already satisfied: jupyter-server-terminals>=0.4.4 in /usr/local/lib/python3.10/dist-packages (from jupyter-server<3,>=2.4.0->jupyterlab->jupyter->aif360[all]) (0.5.3)\n",
            "Requirement already satisfied: overrides>=5.0 in /usr/local/lib/python3.10/dist-packages (from jupyter-server<3,>=2.4.0->jupyterlab->jupyter->aif360[all]) (7.7.0)\n",
            "Requirement already satisfied: websocket-client>=1.7 in /usr/local/lib/python3.10/dist-packages (from jupyter-server<3,>=2.4.0->jupyterlab->jupyter->aif360[all]) (1.8.0)\n",
            "Requirement already satisfied: argon2-cffi-bindings in /usr/local/lib/python3.10/dist-packages (from argon2-cffi->notebook->jupyter->aif360[all]) (21.2.0)\n",
            "Requirement already satisfied: json5>=0.9.0 in /usr/local/lib/python3.10/dist-packages (from jupyterlab-server<3,>=2.27.1->jupyterlab->jupyter->aif360[all]) (0.10.0)\n",
            "Requirement already satisfied: jsonschema>=4.18.0 in /usr/local/lib/python3.10/dist-packages (from jupyterlab-server<3,>=2.27.1->jupyterlab->jupyter->aif360[all]) (4.23.0)\n",
            "Requirement already satisfied: fastjsonschema>=2.15 in /usr/local/lib/python3.10/dist-packages (from nbformat>=5.7->nbconvert->jupyter->aif360[all]) (2.20.0)\n",
            "Requirement already satisfied: ptyprocess>=0.5 in /usr/local/lib/python3.10/dist-packages (from pexpect>4.3->ipython<9->ipympl->aif360[all]) (0.7.0)\n",
            "Requirement already satisfied: wcwidth in /usr/local/lib/python3.10/dist-packages (from prompt-toolkit!=3.0.0,!=3.0.1,<3.1.0,>=2.0.0->ipython<9->ipympl->aif360[all]) (0.2.13)\n",
            "Requirement already satisfied: soupsieve>1.2 in /usr/local/lib/python3.10/dist-packages (from beautifulsoup4->nbconvert->jupyter->aif360[all]) (2.6)\n",
            "Requirement already satisfied: markdown-it-py>=2.2.0 in /usr/local/lib/python3.10/dist-packages (from rich->keras>=3.2.0->tensorflow>=1.13.1->aif360[all]) (3.0.0)\n",
            "Requirement already satisfied: attrs>=22.2.0 in /usr/local/lib/python3.10/dist-packages (from jsonschema>=4.18.0->jupyterlab-server<3,>=2.27.1->jupyterlab->jupyter->aif360[all]) (24.2.0)\n",
            "Requirement already satisfied: jsonschema-specifications>=2023.03.6 in /usr/local/lib/python3.10/dist-packages (from jsonschema>=4.18.0->jupyterlab-server<3,>=2.27.1->jupyterlab->jupyter->aif360[all]) (2024.10.1)\n",
            "Requirement already satisfied: referencing>=0.28.4 in /usr/local/lib/python3.10/dist-packages (from jsonschema>=4.18.0->jupyterlab-server<3,>=2.27.1->jupyterlab->jupyter->aif360[all]) (0.35.1)\n",
            "Requirement already satisfied: rpds-py>=0.7.1 in /usr/local/lib/python3.10/dist-packages (from jsonschema>=4.18.0->jupyterlab-server<3,>=2.27.1->jupyterlab->jupyter->aif360[all]) (0.21.0)\n",
            "Requirement already satisfied: python-json-logger>=2.0.4 in /usr/local/lib/python3.10/dist-packages (from jupyter-events>=0.9.0->jupyter-server<3,>=2.4.0->jupyterlab->jupyter->aif360[all]) (2.0.7)\n",
            "Requirement already satisfied: pyyaml>=5.3 in /usr/local/lib/python3.10/dist-packages (from jupyter-events>=0.9.0->jupyter-server<3,>=2.4.0->jupyterlab->jupyter->aif360[all]) (6.0.2)\n",
            "Requirement already satisfied: rfc3339-validator in /usr/local/lib/python3.10/dist-packages (from jupyter-events>=0.9.0->jupyter-server<3,>=2.4.0->jupyterlab->jupyter->aif360[all]) (0.1.4)\n",
            "Requirement already satisfied: rfc3986-validator>=0.1.1 in /usr/local/lib/python3.10/dist-packages (from jupyter-events>=0.9.0->jupyter-server<3,>=2.4.0->jupyterlab->jupyter->aif360[all]) (0.1.1)\n",
            "Requirement already satisfied: mdurl~=0.1 in /usr/local/lib/python3.10/dist-packages (from markdown-it-py>=2.2.0->rich->keras>=3.2.0->tensorflow>=1.13.1->aif360[all]) (0.1.2)\n",
            "Requirement already satisfied: fqdn in /usr/local/lib/python3.10/dist-packages (from jsonschema[format-nongpl]>=4.18.0->jupyter-events>=0.9.0->jupyter-server<3,>=2.4.0->jupyterlab->jupyter->aif360[all]) (1.5.1)\n",
            "Requirement already satisfied: isoduration in /usr/local/lib/python3.10/dist-packages (from jsonschema[format-nongpl]>=4.18.0->jupyter-events>=0.9.0->jupyter-server<3,>=2.4.0->jupyterlab->jupyter->aif360[all]) (20.11.0)\n",
            "Requirement already satisfied: jsonpointer>1.13 in /usr/local/lib/python3.10/dist-packages (from jsonschema[format-nongpl]>=4.18.0->jupyter-events>=0.9.0->jupyter-server<3,>=2.4.0->jupyterlab->jupyter->aif360[all]) (3.0.0)\n",
            "Requirement already satisfied: uri-template in /usr/local/lib/python3.10/dist-packages (from jsonschema[format-nongpl]>=4.18.0->jupyter-events>=0.9.0->jupyter-server<3,>=2.4.0->jupyterlab->jupyter->aif360[all]) (1.3.0)\n",
            "Requirement already satisfied: webcolors>=24.6.0 in /usr/local/lib/python3.10/dist-packages (from jsonschema[format-nongpl]>=4.18.0->jupyter-events>=0.9.0->jupyter-server<3,>=2.4.0->jupyterlab->jupyter->aif360[all]) (24.11.1)\n",
            "Requirement already satisfied: arrow>=0.15.0 in /usr/local/lib/python3.10/dist-packages (from isoduration->jsonschema[format-nongpl]>=4.18.0->jupyter-events>=0.9.0->jupyter-server<3,>=2.4.0->jupyterlab->jupyter->aif360[all]) (1.3.0)\n",
            "Requirement already satisfied: types-python-dateutil>=2.8.10 in /usr/local/lib/python3.10/dist-packages (from arrow>=0.15.0->isoduration->jsonschema[format-nongpl]>=4.18.0->jupyter-events>=0.9.0->jupyter-server<3,>=2.4.0->jupyterlab->jupyter->aif360[all]) (2.9.0.20241003)\n",
            "Using cached matplotlib-3.9.2-cp310-cp310-manylinux_2_17_x86_64.manylinux2014_x86_64.whl (8.3 MB)\n",
            "Installing collected packages: matplotlib\n",
            "  Attempting uninstall: matplotlib\n",
            "    Found existing installation: matplotlib 3.1.3\n",
            "    Uninstalling matplotlib-3.1.3:\n",
            "      Successfully uninstalled matplotlib-3.1.3\n",
            "Successfully installed matplotlib-3.9.2\n"
          ]
        }
      ],
      "source": [
        "%matplotlib inline\n",
        "!pip install 'aif360[all]'\n",
        "# Load all necessary packages\n",
        "import sys\n",
        "sys.path.append(\"../\")\n",
        "import numpy as np\n",
        "from tqdm import tqdm\n",
        "\n",
        "from aif360.datasets import BinaryLabelDataset\n",
        "from aif360.datasets import AdultDataset, GermanDataset, CompasDataset\n",
        "from aif360.metrics import BinaryLabelDatasetMetric\n",
        "from aif360.metrics import ClassificationMetric\n",
        "from aif360.metrics.utils import compute_boolean_conditioning_vector\n",
        "from aif360.algorithms.preprocessing.optim_preproc import OptimPreproc\n",
        "from aif360.algorithms.preprocessing.optim_preproc_helpers.data_preproc_functions\\\n",
        "            import load_preproc_data_adult, load_preproc_data_german, load_preproc_data_compas\n",
        "from aif360.algorithms.preprocessing.optim_preproc_helpers.distortion_functions\\\n",
        "            import get_distortion_adult, get_distortion_german, get_distortion_compas\n",
        "from aif360.algorithms.preprocessing.optim_preproc_helpers.opt_tools import OptTools\n",
        "\n",
        "from sklearn.linear_model import LogisticRegression\n",
        "from sklearn.preprocessing import StandardScaler\n",
        "from sklearn.metrics import accuracy_score\n",
        "\n",
        "from IPython.display import Markdown, display\n",
        "import matplotlib.pyplot as plt"
      ]
    },
    {
      "cell_type": "code",
      "source": [
        "# Metrics function\n",
        "from collections import OrderedDict\n",
        "from aif360.metrics import ClassificationMetric\n",
        "\n",
        "def compute_metrics(dataset_true, dataset_pred,\n",
        "                    unprivileged_groups, privileged_groups,\n",
        "                    disp = True):\n",
        "    \"\"\" Compute the key metrics \"\"\"\n",
        "    classified_metric_pred = ClassificationMetric(dataset_true,\n",
        "                                                 dataset_pred,\n",
        "                                                 unprivileged_groups=unprivileged_groups,\n",
        "                                                 privileged_groups=privileged_groups)\n",
        "    metrics = OrderedDict()\n",
        "    metrics[\"Balanced accuracy\"] = 0.5*(classified_metric_pred.true_positive_rate()+\n",
        "                                             classified_metric_pred.true_negative_rate())\n",
        "    metrics[\"Statistical parity difference\"] = classified_metric_pred.statistical_parity_difference()\n",
        "    metrics[\"Disparate impact\"] = classified_metric_pred.disparate_impact()\n",
        "    metrics[\"Average odds difference\"] = classified_metric_pred.average_odds_difference()\n",
        "    metrics[\"Equal opportunity difference\"] = classified_metric_pred.equal_opportunity_difference()\n",
        "    metrics[\"Theil index\"] = classified_metric_pred.theil_index()\n",
        "\n",
        "    if disp:\n",
        "        for k in metrics:\n",
        "            print(\"%s = %.4f\" % (k, metrics[k]))\n",
        "\n",
        "    return metrics"
      ],
      "metadata": {
        "id": "6KCNAytn0M7z"
      },
      "execution_count": 67,
      "outputs": []
    },
    {
      "cell_type": "code",
      "source": [
        "import os\n",
        "import urllib\n",
        "import aif360\n",
        "\n",
        "# Obtain the location where it is installed\n",
        "LIB_PATH = aif360.__file__.rsplit(\"aif360\", 1)[0]\n",
        "\n",
        "# check if the data got download properly\n",
        "def check_data_or_download(destn, files, data_source_directory):\n",
        "    check = all(item in os.listdir(destn) for item in files)\n",
        "    if check:\n",
        "        print(\"Adult dataset is available for us\")\n",
        "    else:\n",
        "        print(\"Some files are missing. Downloading now.\")\n",
        "        for data_file in files:\n",
        "            _ = urllib.request.urlretrieve(data_source_directory + data_file,\n",
        "                                           os.path.join(destn, data_file))\n",
        "\n",
        "# Download adult dataset\n",
        "data_source_directory = \"https://archive.ics.uci.edu/ml/machine-learning-databases/adult/\"\n",
        "destn = os.path.join(LIB_PATH, \"aif360\", \"data\", \"raw\", \"adult\")\n",
        "files = [\"adult.data\", \"adult.test\", \"adult.names\"]\n",
        "\n",
        "check_data_or_download(destn, files, data_source_directory)"
      ],
      "metadata": {
        "colab": {
          "base_uri": "https://localhost:8080/"
        },
        "id": "Hs99k-Ny0iwt",
        "outputId": "a4479586-d9f4-4936-e5a6-4ea0c7fbd425",
        "collapsed": true
      },
      "execution_count": 68,
      "outputs": [
        {
          "output_type": "stream",
          "name": "stdout",
          "text": [
            "Adult dataset is available for us\n"
          ]
        }
      ]
    },
    {
      "cell_type": "markdown",
      "metadata": {
        "id": "A2YE2_9dzYfw"
      },
      "source": [
        "#### Load dataset and specify options"
      ]
    },
    {
      "cell_type": "code",
      "execution_count": 69,
      "metadata": {
        "id": "P7dEdlX2zYfx",
        "colab": {
          "base_uri": "https://localhost:8080/"
        },
        "collapsed": true,
        "outputId": "dac29bfe-74a0-44b3-d5ef-c9a8076bfe65"
      },
      "outputs": [
        {
          "output_type": "stream",
          "name": "stderr",
          "text": [
            "/usr/local/lib/python3.10/dist-packages/aif360/algorithms/preprocessing/optim_preproc_helpers/data_preproc_functions.py:50: FutureWarning: Downcasting behavior in `replace` is deprecated and will be removed in a future version. To retain the old behavior, explicitly call `result.infer_objects(copy=False)`. To opt-in to the future behavior, set `pd.set_option('future.no_silent_downcasting', True)`\n",
            "  df['sex'] = df['sex'].replace({'Female': 0.0, 'Male': 1.0})\n"
          ]
        }
      ],
      "source": [
        "# import dataset\n",
        "dataset_used = \"adult\" # \"adult\", \"german\", \"compas\"\n",
        "protected_attribute_used = 1 # 1, 2\n",
        "\n",
        "if dataset_used == \"adult\":\n",
        "    if protected_attribute_used == 1:\n",
        "        privileged_groups = [{'sex': 1}]\n",
        "        unprivileged_groups = [{'sex': 0}]\n",
        "        dataset_orig = load_preproc_data_adult(['sex'])\n",
        "    else:\n",
        "        privileged_groups = [{'race': 1}]\n",
        "        unprivileged_groups = [{'race': 0}]\n",
        "        dataset_orig = load_preproc_data_adult(['race'])\n",
        "\n",
        "    optim_options = {\n",
        "        \"distortion_fun\": get_distortion_adult,\n",
        "        \"epsilon\": 0.05,\n",
        "        \"clist\": [0.99, 1.99, 2.99],\n",
        "        \"dlist\": [.1, 0.05, 0]\n",
        "    }\n",
        "\n",
        "elif dataset_used == \"german\":\n",
        "    if protected_attribute_used == 1:\n",
        "        privileged_groups = [{'sex': 1}]\n",
        "        unprivileged_groups = [{'sex': 0}]\n",
        "        dataset_orig = load_preproc_data_german(['sex'])\n",
        "        optim_options = {\n",
        "            \"distortion_fun\": get_distortion_german,\n",
        "            \"epsilon\": 0.05,\n",
        "            \"clist\": [0.99, 1.99, 2.99],\n",
        "            \"dlist\": [.1, 0.05, 0]\n",
        "        }\n",
        "\n",
        "    else:\n",
        "        privileged_groups = [{'age': 1}]\n",
        "        unprivileged_groups = [{'age': 0}]\n",
        "        dataset_orig = load_preproc_data_german(['age'])\n",
        "        optim_options = {\n",
        "            \"distortion_fun\": get_distortion_german,\n",
        "            \"epsilon\": 0.1,\n",
        "            \"clist\": [0.99, 1.99, 2.99],\n",
        "            \"dlist\": [.1, 0.05, 0]\n",
        "        }\n",
        "\n",
        "elif dataset_used == \"compas\":\n",
        "    if protected_attribute_used == 1:\n",
        "        privileged_groups = [{'sex': 1}]\n",
        "        unprivileged_groups = [{'sex': 0}]\n",
        "        dataset_orig = load_preproc_data_compas(['sex'])\n",
        "    else:\n",
        "        privileged_groups = [{'race': 1}]\n",
        "        unprivileged_groups = [{'race': 0}]\n",
        "        dataset_orig = load_preproc_data_compas(['race'])\n",
        "\n",
        "    optim_options = {\n",
        "        \"distortion_fun\": get_distortion_compas,\n",
        "        \"epsilon\": 0.05,\n",
        "        \"clist\": [0.99, 1.99, 2.99],\n",
        "        \"dlist\": [.1, 0.05, 0]\n",
        "    }\n",
        "\n",
        "#random seed\n",
        "np.random.seed(1)\n",
        "\n",
        "# Split into train, validation, and test\n",
        "dataset_orig_train, dataset_orig_vt = dataset_orig.split([0.7], shuffle=True)\n",
        "dataset_orig_valid, dataset_orig_test = dataset_orig_vt.split([0.5], shuffle=True)"
      ]
    },
    {
      "cell_type": "markdown",
      "metadata": {
        "id": "9Gv5yrj9zYfy"
      },
      "source": [
        "#### Display dataset attributes"
      ]
    },
    {
      "cell_type": "code",
      "execution_count": 70,
      "metadata": {
        "id": "S--XXtpgzYfy",
        "outputId": "ff1b1761-7886-473b-f478-8dbf408849d0",
        "colab": {
          "base_uri": "https://localhost:8080/",
          "height": 327
        },
        "collapsed": true
      },
      "outputs": [
        {
          "output_type": "display_data",
          "data": {
            "text/plain": [
              "<IPython.core.display.Markdown object>"
            ],
            "text/markdown": "#### Training Dataset shape"
          },
          "metadata": {}
        },
        {
          "output_type": "stream",
          "name": "stdout",
          "text": [
            "(34189, 18)\n"
          ]
        },
        {
          "output_type": "display_data",
          "data": {
            "text/plain": [
              "<IPython.core.display.Markdown object>"
            ],
            "text/markdown": "#### Favorable and unfavorable labels"
          },
          "metadata": {}
        },
        {
          "output_type": "stream",
          "name": "stdout",
          "text": [
            "1.0 0.0\n"
          ]
        },
        {
          "output_type": "display_data",
          "data": {
            "text/plain": [
              "<IPython.core.display.Markdown object>"
            ],
            "text/markdown": "#### Protected attribute names"
          },
          "metadata": {}
        },
        {
          "output_type": "stream",
          "name": "stdout",
          "text": [
            "['sex']\n"
          ]
        },
        {
          "output_type": "display_data",
          "data": {
            "text/plain": [
              "<IPython.core.display.Markdown object>"
            ],
            "text/markdown": "#### Privileged and unprivileged protected attribute values"
          },
          "metadata": {}
        },
        {
          "output_type": "stream",
          "name": "stdout",
          "text": [
            "[array([1.])] [array([0.])]\n"
          ]
        },
        {
          "output_type": "display_data",
          "data": {
            "text/plain": [
              "<IPython.core.display.Markdown object>"
            ],
            "text/markdown": "#### Dataset feature names"
          },
          "metadata": {}
        },
        {
          "output_type": "stream",
          "name": "stdout",
          "text": [
            "['race', 'sex', 'Age (decade)=10', 'Age (decade)=20', 'Age (decade)=30', 'Age (decade)=40', 'Age (decade)=50', 'Age (decade)=60', 'Age (decade)=>=70', 'Education Years=6', 'Education Years=7', 'Education Years=8', 'Education Years=9', 'Education Years=10', 'Education Years=11', 'Education Years=12', 'Education Years=<6', 'Education Years=>12']\n"
          ]
        }
      ],
      "source": [
        "# print out some labels, names, etc.\n",
        "display(Markdown(\"#### Training Dataset shape\"))\n",
        "print(dataset_orig_train.features.shape)\n",
        "display(Markdown(\"#### Favorable and unfavorable labels\"))\n",
        "print(dataset_orig_train.favorable_label, dataset_orig_train.unfavorable_label)\n",
        "display(Markdown(\"#### Protected attribute names\"))\n",
        "print(dataset_orig_train.protected_attribute_names)\n",
        "display(Markdown(\"#### Privileged and unprivileged protected attribute values\"))\n",
        "print(dataset_orig_train.privileged_protected_attributes,\n",
        "      dataset_orig_train.unprivileged_protected_attributes)\n",
        "display(Markdown(\"#### Dataset feature names\"))\n",
        "print(dataset_orig_train.feature_names)"
      ]
    },
    {
      "cell_type": "markdown",
      "metadata": {
        "id": "1iZ56X_6zYfz"
      },
      "source": [
        "#### Metric for original training data"
      ]
    },
    {
      "cell_type": "code",
      "execution_count": 71,
      "metadata": {
        "id": "aZGni05uzYfz",
        "colab": {
          "base_uri": "https://localhost:8080/",
          "height": 75
        },
        "outputId": "4e1237e0-f7f0-41f9-fc31-2f6f1d52dc30",
        "collapsed": true
      },
      "outputs": [
        {
          "output_type": "display_data",
          "data": {
            "text/plain": [
              "<IPython.core.display.Markdown object>"
            ],
            "text/markdown": "#### Original training dataset"
          },
          "metadata": {}
        },
        {
          "output_type": "stream",
          "name": "stdout",
          "text": [
            "Difference in mean outcomes between unprivileged and privileged groups = -0.190244\n"
          ]
        }
      ],
      "source": [
        "# Metric for the original dataset\n",
        "metric_orig_train = BinaryLabelDatasetMetric(dataset_orig_train,\n",
        "                                             unprivileged_groups=unprivileged_groups,\n",
        "                                             privileged_groups=privileged_groups)\n",
        "display(Markdown(\"#### Original training dataset\"))\n",
        "print(\"Difference in mean outcomes between unprivileged and privileged groups = %f\" % metric_orig_train.mean_difference())"
      ]
    },
    {
      "cell_type": "markdown",
      "metadata": {
        "id": "kVmmT4YVzYf0"
      },
      "source": [
        "#### Train with and transform the original training data"
      ]
    },
    {
      "cell_type": "code",
      "execution_count": 72,
      "metadata": {
        "scrolled": false,
        "id": "JVtaxQr9zYf0",
        "colab": {
          "base_uri": "https://localhost:8080/"
        },
        "outputId": "37b2114d-b1a0-4ded-a377-e92ee94ce3a3",
        "collapsed": true
      },
      "outputs": [
        {
          "output_type": "stream",
          "name": "stderr",
          "text": [
            "/usr/local/lib/python3.10/dist-packages/aif360/algorithms/preprocessing/optim_preproc.py:68: UserWarning: Privileged and unprivileged groups specified will not be used. The protected attributes are directly specified in the data preprocessing function. The current implementation automatically adjusts for discrimination across all groups. This can be changed by changing the optimization code.\n",
            "  warn(\"Privileged and unprivileged groups specified will not be \"\n",
            "/usr/local/lib/python3.10/dist-packages/aif360/algorithms/preprocessing/optim_preproc_helpers/opt_tools.py:98: FutureWarning: The default of observed=False is deprecated and will be changed to True in a future version of pandas. Pass observed=False to retain current behavior or observed=True to adopt the future default and silence this warning.\n",
            "  self.dfJoint = self.df.groupby(self.features).size().reset_index()\n",
            "/usr/local/lib/python3.10/dist-packages/aif360/algorithms/preprocessing/optim_preproc_helpers/opt_tools.py:329: FutureWarning: The default of observed=False is deprecated and will be changed to True in a future version of pandas. Pass observed=False to retain current behavior or observed=True to adopt the future default and silence this warning.\n",
            "  dfMarginal = self.dfJoint.groupby(self.DXY_features)['Frequency'].sum()\n",
            "/usr/local/lib/python3.10/dist-packages/cvxpy/expressions/expression.py:650: UserWarning: \n",
            "This use of ``*`` has resulted in matrix multiplication.\n",
            "Using ``*`` for matrix multiplication has been deprecated since CVXPY 1.1.\n",
            "    Use ``*`` for matrix-scalar and vector-scalar multiplication.\n",
            "    Use ``@`` for matrix-matrix and matrix-vector multiplication.\n",
            "    Use ``multiply`` for elementwise multiplication.\n",
            "This code path has been hit 9 times so far.\n",
            "\n",
            "  warnings.warn(msg, UserWarning)\n",
            "/usr/local/lib/python3.10/dist-packages/cvxpy/expressions/expression.py:650: UserWarning: \n",
            "This use of ``*`` has resulted in matrix multiplication.\n",
            "Using ``*`` for matrix multiplication has been deprecated since CVXPY 1.1.\n",
            "    Use ``*`` for matrix-scalar and vector-scalar multiplication.\n",
            "    Use ``@`` for matrix-matrix and matrix-vector multiplication.\n",
            "    Use ``multiply`` for elementwise multiplication.\n",
            "This code path has been hit 10 times so far.\n",
            "\n",
            "  warnings.warn(msg, UserWarning)\n",
            "/usr/local/lib/python3.10/dist-packages/cvxpy/expressions/expression.py:650: UserWarning: \n",
            "This use of ``*`` has resulted in matrix multiplication.\n",
            "Using ``*`` for matrix multiplication has been deprecated since CVXPY 1.1.\n",
            "    Use ``*`` for matrix-scalar and vector-scalar multiplication.\n",
            "    Use ``@`` for matrix-matrix and matrix-vector multiplication.\n",
            "    Use ``multiply`` for elementwise multiplication.\n",
            "This code path has been hit 11 times so far.\n",
            "\n",
            "  warnings.warn(msg, UserWarning)\n",
            "/usr/local/lib/python3.10/dist-packages/cvxpy/expressions/expression.py:650: UserWarning: \n",
            "This use of ``*`` has resulted in matrix multiplication.\n",
            "Using ``*`` for matrix multiplication has been deprecated since CVXPY 1.1.\n",
            "    Use ``*`` for matrix-scalar and vector-scalar multiplication.\n",
            "    Use ``@`` for matrix-matrix and matrix-vector multiplication.\n",
            "    Use ``multiply`` for elementwise multiplication.\n",
            "This code path has been hit 12 times so far.\n",
            "\n",
            "  warnings.warn(msg, UserWarning)\n",
            "/usr/local/lib/python3.10/dist-packages/cvxpy/problems/problem.py:1407: UserWarning: Solution may be inaccurate. Try another solver, adjusting the solver settings, or solve with verbose=True for more information.\n",
            "  warnings.warn(\n",
            "/usr/local/lib/python3.10/dist-packages/aif360/algorithms/preprocessing/optim_preproc.py:165: FutureWarning: DataFrame.applymap has been deprecated. Use DataFrame.map instead.\n",
            "  dfP_withY = self.OpT.dfP.applymap(lambda x: 0 if x < 1e-8 else x)\n"
          ]
        },
        {
          "output_type": "stream",
          "name": "stdout",
          "text": [
            "Optimized Preprocessing: Objective converged to 0.010893\n"
          ]
        },
        {
          "output_type": "stream",
          "name": "stderr",
          "text": [
            "/usr/local/lib/python3.10/dist-packages/aif360/algorithms/preprocessing/optim_preproc.py:192: FutureWarning: Downcasting behavior in `replace` is deprecated and will be removed in a future version. To retain the old behavior, explicitly call `result.infer_objects(copy=False)`. To opt-in to the future behavior, set `pd.set_option('future.no_silent_downcasting', True)`\n",
            "  df_transformed[p] = df_transformed[p].replace(pmap_rev)\n",
            "/usr/local/lib/python3.10/dist-packages/aif360/algorithms/preprocessing/optim_preproc.py:198: FutureWarning: Downcasting behavior in `replace` is deprecated and will be removed in a future version. To retain the old behavior, explicitly call `result.infer_objects(copy=False)`. To opt-in to the future behavior, set `pd.set_option('future.no_silent_downcasting', True)`\n",
            "  df_transformed[p] = df_transformed[p].replace(pmap_rev)\n"
          ]
        }
      ],
      "source": [
        "OP = OptimPreproc(OptTools, optim_options,\n",
        "                  unprivileged_groups = unprivileged_groups,\n",
        "                  privileged_groups = privileged_groups)\n",
        "\n",
        "OP = OP.fit(dataset_orig_train)\n",
        "\n",
        "# Transform training data and align features\n",
        "dataset_transf_train = OP.transform(dataset_orig_train, transform_Y=True)\n",
        "dataset_transf_train = dataset_orig_train.align_datasets(dataset_transf_train)"
      ]
    },
    {
      "cell_type": "markdown",
      "metadata": {
        "id": "I4q0og3ezYf1"
      },
      "source": [
        "#### Metric with the transformed training data"
      ]
    },
    {
      "cell_type": "code",
      "execution_count": 73,
      "metadata": {
        "id": "wQfKCAkVzYf1",
        "colab": {
          "base_uri": "https://localhost:8080/",
          "height": 75
        },
        "outputId": "896b7419-f750-402f-d0a8-192eb7ce45a0",
        "collapsed": true
      },
      "outputs": [
        {
          "output_type": "display_data",
          "data": {
            "text/plain": [
              "<IPython.core.display.Markdown object>"
            ],
            "text/markdown": "#### Transformed training dataset"
          },
          "metadata": {}
        },
        {
          "output_type": "stream",
          "name": "stdout",
          "text": [
            "Difference in mean outcomes between unprivileged and privileged groups = -0.049945\n"
          ]
        }
      ],
      "source": [
        "metric_transf_train = BinaryLabelDatasetMetric(dataset_transf_train,\n",
        "                                         unprivileged_groups=unprivileged_groups,\n",
        "                                         privileged_groups=privileged_groups)\n",
        "display(Markdown(\"#### Transformed training dataset\"))\n",
        "print(\"Difference in mean outcomes between unprivileged and privileged groups = %f\" % metric_transf_train.mean_difference())"
      ]
    },
    {
      "cell_type": "markdown",
      "metadata": {
        "id": "_O4dc0lJzYf1"
      },
      "source": [
        "Optimized preprocessing has reduced the disparity in favorable outcomes between the privileged and unprivileged\n",
        "groups (training data)."
      ]
    },
    {
      "cell_type": "code",
      "execution_count": 74,
      "metadata": {
        "id": "X6hT43rTzYf1"
      },
      "outputs": [],
      "source": [
        "### Testing\n",
        "assert np.abs(metric_transf_train.mean_difference()) < np.abs(metric_orig_train.mean_difference())"
      ]
    },
    {
      "cell_type": "markdown",
      "metadata": {
        "id": "8T95NqBvzYf2"
      },
      "source": [
        "#### Load, clean up original test data and compute metric"
      ]
    },
    {
      "cell_type": "code",
      "execution_count": 75,
      "metadata": {
        "id": "h9LuhaQpzYf2",
        "colab": {
          "base_uri": "https://localhost:8080/",
          "height": 133
        },
        "outputId": "7b9f9808-5dcd-4835-d549-e59922a9914d",
        "collapsed": true
      },
      "outputs": [
        {
          "output_type": "display_data",
          "data": {
            "text/plain": [
              "<IPython.core.display.Markdown object>"
            ],
            "text/markdown": "#### Testing Dataset shape"
          },
          "metadata": {}
        },
        {
          "output_type": "stream",
          "name": "stdout",
          "text": [
            "(7327, 18)\n"
          ]
        },
        {
          "output_type": "display_data",
          "data": {
            "text/plain": [
              "<IPython.core.display.Markdown object>"
            ],
            "text/markdown": "#### Original test dataset"
          },
          "metadata": {}
        },
        {
          "output_type": "stream",
          "name": "stdout",
          "text": [
            "Difference in mean outcomes between unprivileged and privileged groups = -0.190984\n"
          ]
        }
      ],
      "source": [
        "dataset_orig_test = dataset_transf_train.align_datasets(dataset_orig_test)\n",
        "display(Markdown(\"#### Testing Dataset shape\"))\n",
        "print(dataset_orig_test.features.shape)\n",
        "\n",
        "metric_orig_test = BinaryLabelDatasetMetric(dataset_orig_test,\n",
        "                                         unprivileged_groups=unprivileged_groups,\n",
        "                                         privileged_groups=privileged_groups)\n",
        "display(Markdown(\"#### Original test dataset\"))\n",
        "print(\"Difference in mean outcomes between unprivileged and privileged groups = %f\" % metric_orig_test.mean_difference())"
      ]
    },
    {
      "cell_type": "markdown",
      "metadata": {
        "id": "vaSY3DTzzYf2"
      },
      "source": [
        "#### Transform test data and compute metric"
      ]
    },
    {
      "cell_type": "code",
      "execution_count": 76,
      "metadata": {
        "id": "Jfai-oskzYf2",
        "colab": {
          "base_uri": "https://localhost:8080/",
          "height": 203
        },
        "outputId": "9027039c-5157-4245-ab2e-1936643bf536",
        "collapsed": true
      },
      "outputs": [
        {
          "output_type": "stream",
          "name": "stderr",
          "text": [
            "/usr/local/lib/python3.10/dist-packages/aif360/algorithms/preprocessing/optim_preproc.py:165: FutureWarning: DataFrame.applymap has been deprecated. Use DataFrame.map instead.\n",
            "  dfP_withY = self.OpT.dfP.applymap(lambda x: 0 if x < 1e-8 else x)\n",
            "/usr/local/lib/python3.10/dist-packages/aif360/algorithms/preprocessing/optim_preproc.py:192: FutureWarning: Downcasting behavior in `replace` is deprecated and will be removed in a future version. To retain the old behavior, explicitly call `result.infer_objects(copy=False)`. To opt-in to the future behavior, set `pd.set_option('future.no_silent_downcasting', True)`\n",
            "  df_transformed[p] = df_transformed[p].replace(pmap_rev)\n",
            "/usr/local/lib/python3.10/dist-packages/aif360/algorithms/preprocessing/optim_preproc.py:198: FutureWarning: Downcasting behavior in `replace` is deprecated and will be removed in a future version. To retain the old behavior, explicitly call `result.infer_objects(copy=False)`. To opt-in to the future behavior, set `pd.set_option('future.no_silent_downcasting', True)`\n",
            "  df_transformed[p] = df_transformed[p].replace(pmap_rev)\n"
          ]
        },
        {
          "output_type": "display_data",
          "data": {
            "text/plain": [
              "<IPython.core.display.Markdown object>"
            ],
            "text/markdown": "#### Transformed test dataset"
          },
          "metadata": {}
        },
        {
          "output_type": "stream",
          "name": "stdout",
          "text": [
            "Difference in mean outcomes between unprivileged and privileged groups = -0.049846\n"
          ]
        }
      ],
      "source": [
        "dataset_transf_test = OP.transform(dataset_orig_test, transform_Y = True)\n",
        "dataset_transf_test = dataset_orig_test.align_datasets(dataset_transf_test)\n",
        "\n",
        "metric_transf_test = BinaryLabelDatasetMetric(dataset_transf_test,\n",
        "                                         unprivileged_groups=unprivileged_groups,\n",
        "                                         privileged_groups=privileged_groups)\n",
        "display(Markdown(\"#### Transformed test dataset\"))\n",
        "print(\"Difference in mean outcomes between unprivileged and privileged groups = %f\" % metric_transf_test.mean_difference())"
      ]
    },
    {
      "cell_type": "markdown",
      "metadata": {
        "id": "3V9kCrE5zYf3"
      },
      "source": [
        "Optimized preprocessing has reduced the disparity in favorable outcomes between the privileged and unprivileged\n",
        "groups (test data)."
      ]
    },
    {
      "cell_type": "code",
      "execution_count": 77,
      "metadata": {
        "id": "eKeGdYMhzYf3"
      },
      "outputs": [],
      "source": [
        "### Testing\n",
        "assert np.abs(metric_transf_test.mean_difference()) < np.abs(metric_orig_test.mean_difference())"
      ]
    },
    {
      "cell_type": "markdown",
      "metadata": {
        "id": "esZLkFiZzYf3"
      },
      "source": [
        "### Train classifier on original data"
      ]
    },
    {
      "cell_type": "code",
      "execution_count": 78,
      "metadata": {
        "id": "5HL8S1fuzYf3"
      },
      "outputs": [],
      "source": [
        "# Logistic regression classifier and predictions\n",
        "scale_orig = StandardScaler()\n",
        "X_train = scale_orig.fit_transform(dataset_orig_train.features)\n",
        "y_train = dataset_orig_train.labels.ravel()\n",
        "\n",
        "lmod = LogisticRegression()\n",
        "lmod.fit(X_train, y_train)\n",
        "y_train_pred = lmod.predict(X_train)\n",
        "\n",
        "# positive class index\n",
        "pos_ind = np.where(lmod.classes_ == dataset_orig_train.favorable_label)[0][0]\n",
        "\n",
        "dataset_orig_train_pred = dataset_orig_train.copy()\n",
        "dataset_orig_train_pred.labels = y_train_pred"
      ]
    },
    {
      "cell_type": "markdown",
      "metadata": {
        "id": "38BDhFUczYf3"
      },
      "source": [
        "#### Obtain scores original test set"
      ]
    },
    {
      "cell_type": "code",
      "execution_count": 79,
      "metadata": {
        "id": "ESAHv-kEzYf4"
      },
      "outputs": [],
      "source": [
        "dataset_orig_valid_pred = dataset_orig_valid.copy(deepcopy=True)\n",
        "X_valid = scale_orig.transform(dataset_orig_valid_pred.features)\n",
        "y_valid = dataset_orig_valid_pred.labels\n",
        "dataset_orig_valid_pred.scores = lmod.predict_proba(X_valid)[:,pos_ind].reshape(-1,1)\n",
        "\n",
        "dataset_orig_test_pred = dataset_orig_test.copy(deepcopy=True)\n",
        "X_test = scale_orig.transform(dataset_orig_test_pred.features)\n",
        "y_test = dataset_orig_test_pred.labels\n",
        "dataset_orig_test_pred.scores = lmod.predict_proba(X_test)[:,pos_ind].reshape(-1,1)"
      ]
    },
    {
      "cell_type": "markdown",
      "metadata": {
        "id": "HOUj3jaLzYf4"
      },
      "source": [
        "### Find the optimal classification threshold from the validation set"
      ]
    },
    {
      "cell_type": "code",
      "execution_count": 80,
      "metadata": {
        "id": "f1xVsCobzYf4",
        "colab": {
          "base_uri": "https://localhost:8080/"
        },
        "outputId": "4899a201-0de2-46c3-bfd5-ab8654c18c27",
        "collapsed": true
      },
      "outputs": [
        {
          "output_type": "stream",
          "name": "stdout",
          "text": [
            "Best balanced accuracy (no fairness constraints) = 0.7463\n",
            "Optimal classification threshold (no fairness constraints) = 0.2872\n"
          ]
        }
      ],
      "source": [
        "num_thresh = 100\n",
        "ba_arr = np.zeros(num_thresh)\n",
        "class_thresh_arr = np.linspace(0.01, 0.99, num_thresh)\n",
        "for idx, class_thresh in enumerate(class_thresh_arr):\n",
        "\n",
        "    fav_inds = dataset_orig_valid_pred.scores > class_thresh\n",
        "    dataset_orig_valid_pred.labels[fav_inds] = dataset_orig_valid_pred.favorable_label\n",
        "    dataset_orig_valid_pred.labels[~fav_inds] = dataset_orig_valid_pred.unfavorable_label\n",
        "\n",
        "    classified_metric_orig_valid = ClassificationMetric(dataset_orig_valid,\n",
        "                                             dataset_orig_valid_pred,\n",
        "                                             unprivileged_groups=unprivileged_groups,\n",
        "                                             privileged_groups=privileged_groups)\n",
        "\n",
        "    ba_arr[idx] = 0.5*(classified_metric_orig_valid.true_positive_rate()\\\n",
        "                       +classified_metric_orig_valid.true_negative_rate())\n",
        "\n",
        "best_ind = np.where(ba_arr == np.max(ba_arr))[0][0]\n",
        "best_class_thresh = class_thresh_arr[best_ind]\n",
        "\n",
        "print(\"Best balanced accuracy (no fairness constraints) = %.4f\" % np.max(ba_arr))\n",
        "print(\"Optimal classification threshold (no fairness constraints) = %.4f\" % best_class_thresh)"
      ]
    },
    {
      "cell_type": "markdown",
      "metadata": {
        "id": "o99RkFLRzYf4"
      },
      "source": [
        "### Predictions and fairness metrics from original test set"
      ]
    },
    {
      "cell_type": "code",
      "execution_count": 81,
      "metadata": {
        "id": "M_Y29A-mzYf4",
        "colab": {
          "base_uri": "https://localhost:8080/",
          "height": 309
        },
        "outputId": "e5e382f3-20d4-43fb-ab25-e6ba7a997133",
        "collapsed": true
      },
      "outputs": [
        {
          "output_type": "display_data",
          "data": {
            "text/plain": [
              "<IPython.core.display.Markdown object>"
            ],
            "text/markdown": "#### Predictions from original testing data"
          },
          "metadata": {}
        },
        {
          "output_type": "display_data",
          "data": {
            "text/plain": [
              "<IPython.core.display.Markdown object>"
            ],
            "text/markdown": "#### Testing set"
          },
          "metadata": {}
        },
        {
          "output_type": "display_data",
          "data": {
            "text/plain": [
              "<IPython.core.display.Markdown object>"
            ],
            "text/markdown": "##### Raw predictions - No fairness constraints"
          },
          "metadata": {}
        },
        {
          "output_type": "stream",
          "name": "stderr",
          "text": [
            " 45%|████▌     | 45/100 [00:00<00:00, 84.02it/s]"
          ]
        },
        {
          "output_type": "stream",
          "name": "stdout",
          "text": [
            "Balanced accuracy = 0.7437\n",
            "Statistical parity difference = -0.3580\n",
            "Disparate impact = 0.2794\n",
            "Average odds difference = -0.3181\n",
            "Equal opportunity difference = -0.3769\n",
            "Theil index = 0.1129\n"
          ]
        },
        {
          "output_type": "stream",
          "name": "stderr",
          "text": [
            " 73%|███████▎  | 73/100 [00:00<00:00, 89.94it/s]/usr/local/lib/python3.10/dist-packages/aif360/metrics/dataset_metric.py:82: RuntimeWarning: invalid value encountered in scalar divide\n",
            "  return metric_fun(privileged=False) / metric_fun(privileged=True)\n",
            "100%|██████████| 100/100 [00:01<00:00, 87.76it/s]\n"
          ]
        }
      ],
      "source": [
        "display(Markdown(\"#### Predictions from original testing data\"))\n",
        "\n",
        "bal_acc_arr_orig = []\n",
        "disp_imp_arr_orig = []\n",
        "avg_odds_diff_arr_orig = []\n",
        "\n",
        "display(Markdown(\"#### Testing set\"))\n",
        "display(Markdown(\"##### Raw predictions - No fairness constraints\"))\n",
        "\n",
        "for thresh in tqdm(class_thresh_arr):\n",
        "\n",
        "    fav_inds = dataset_orig_test_pred.scores > thresh\n",
        "    dataset_orig_test_pred.labels[fav_inds] = dataset_orig_test_pred.favorable_label\n",
        "    dataset_orig_test_pred.labels[~fav_inds] = dataset_orig_test_pred.unfavorable_label\n",
        "\n",
        "    if (thresh == best_class_thresh):\n",
        "        disp = True\n",
        "    else:\n",
        "        disp = False\n",
        "\n",
        "    metric_test_bef = compute_metrics(dataset_orig_test, dataset_orig_test_pred,\n",
        "                                       unprivileged_groups, privileged_groups, disp=disp)\n",
        "\n",
        "    bal_acc_arr_orig.append(metric_test_bef[\"Balanced accuracy\"])\n",
        "    avg_odds_diff_arr_orig.append(metric_test_bef[\"Average odds difference\"])\n",
        "    disp_imp_arr_orig.append(metric_test_bef[\"Disparate impact\"])"
      ]
    },
    {
      "cell_type": "code",
      "execution_count": 82,
      "metadata": {
        "id": "CWKBe845zYf5",
        "colab": {
          "base_uri": "https://localhost:8080/",
          "height": 1000
        },
        "outputId": "5076ab49-3535-4a45-a612-2d23fdcc851b",
        "collapsed": true
      },
      "outputs": [
        {
          "output_type": "stream",
          "name": "stdout",
          "text": [
            "Found existing installation: matplotlib 3.9.2\n",
            "Uninstalling matplotlib-3.9.2:\n",
            "  Would remove:\n",
            "    /usr/local/lib/python3.10/dist-packages/matplotlib-3.9.2.dist-info/*\n",
            "    /usr/local/lib/python3.10/dist-packages/matplotlib/*\n",
            "    /usr/local/lib/python3.10/dist-packages/mpl_toolkits/axes_grid1/*\n",
            "    /usr/local/lib/python3.10/dist-packages/mpl_toolkits/axisartist/*\n",
            "    /usr/local/lib/python3.10/dist-packages/mpl_toolkits/mplot3d/*\n",
            "    /usr/local/lib/python3.10/dist-packages/pylab.py\n",
            "Proceed (Y/n)? y\n",
            "  Successfully uninstalled matplotlib-3.9.2\n",
            "Collecting matplotlib==3.1.3\n",
            "  Using cached matplotlib-3.1.3-cp310-cp310-linux_x86_64.whl\n",
            "Requirement already satisfied: cycler>=0.10 in /usr/local/lib/python3.10/dist-packages (from matplotlib==3.1.3) (0.12.1)\n",
            "Requirement already satisfied: kiwisolver>=1.0.1 in /usr/local/lib/python3.10/dist-packages (from matplotlib==3.1.3) (1.4.7)\n",
            "Requirement already satisfied: pyparsing!=2.0.4,!=2.1.2,!=2.1.6,>=2.0.1 in /usr/local/lib/python3.10/dist-packages (from matplotlib==3.1.3) (3.2.0)\n",
            "Requirement already satisfied: python-dateutil>=2.1 in /usr/local/lib/python3.10/dist-packages (from matplotlib==3.1.3) (2.8.2)\n",
            "Requirement already satisfied: numpy>=1.11 in /usr/local/lib/python3.10/dist-packages (from matplotlib==3.1.3) (1.26.4)\n",
            "Requirement already satisfied: six>=1.5 in /usr/local/lib/python3.10/dist-packages (from python-dateutil>=2.1->matplotlib==3.1.3) (1.16.0)\n",
            "Installing collected packages: matplotlib\n",
            "\u001b[31mERROR: pip's dependency resolver does not currently take into account all the packages that are installed. This behaviour is the source of the following dependency conflicts.\n",
            "arviz 0.20.0 requires matplotlib>=3.5, but you have matplotlib 3.1.3 which is incompatible.\n",
            "bigframes 1.27.0 requires matplotlib>=3.7.1, but you have matplotlib 3.1.3 which is incompatible.\n",
            "ipympl 0.9.4 requires matplotlib<4,>=3.4.0, but you have matplotlib 3.1.3 which is incompatible.\n",
            "plotnine 0.14.1 requires matplotlib>=3.8.0, but you have matplotlib 3.1.3 which is incompatible.\n",
            "seaborn 0.13.2 requires matplotlib!=3.6.1,>=3.4, but you have matplotlib 3.1.3 which is incompatible.\u001b[0m\u001b[31m\n",
            "\u001b[0mSuccessfully installed matplotlib-3.1.3\n"
          ]
        },
        {
          "output_type": "display_data",
          "data": {
            "application/vnd.colab-display-data+json": {
              "pip_warning": {
                "packages": [
                  "matplotlib",
                  "mpl_toolkits"
                ]
              },
              "id": "d7c3dec4484341f6a26325c612a161ca"
            }
          },
          "metadata": {}
        },
        {
          "output_type": "display_data",
          "data": {
            "text/plain": [
              "<Figure size 1000x700 with 2 Axes>"
            ],
            "image/png": "[encoded data removed]"
          },
          "metadata": {}
        }
      ],
      "source": [
        "%pip uninstall matplotlib\n",
        "%pip install matplotlib==3.1.3\n",
        "\n",
        "fig, ax1 = plt.subplots(figsize=(10,7))\n",
        "ax1.plot(class_thresh_arr, bal_acc_arr_orig)\n",
        "ax1.set_xlabel('Classification Thresholds', fontsize=16, fontweight='bold')\n",
        "ax1.set_ylabel('Balanced Accuracy', color='b', fontsize=16, fontweight='bold')\n",
        "ax1.xaxis.set_tick_params(labelsize=14)\n",
        "ax1.yaxis.set_tick_params(labelsize=14)\n",
        "\n",
        "\n",
        "ax2 = ax1.twinx()\n",
        "ax2.plot(class_thresh_arr, np.abs(1.0-np.array(disp_imp_arr_orig)), color='r')\n",
        "ax2.set_ylabel('abs(1-disparate impact)', color='r', fontsize=16, fontweight='bold')\n",
        "ax2.axvline(np.array(class_thresh_arr)[best_ind],\n",
        "            color='k', linestyle=':')\n",
        "ax2.yaxis.set_tick_params(labelsize=14)\n",
        "ax2.grid(True)\n",
        "\n",
        "disp_imp_at_best_bal_acc_orig = np.abs(1.0-np.array(disp_imp_arr_orig))[best_ind]"
      ]
    },
    {
      "cell_type": "markdown",
      "metadata": {
        "id": "LFe68yGZzYf5"
      },
      "source": [
        "```abs(1-disparate impact)``` must be close to zero for classifier predictions to be fair."
      ]
    },
    {
      "cell_type": "markdown",
      "metadata": {
        "id": "-933KLdszYf5"
      },
      "source": [
        "### Train classifier on transformed data and obtain predictions with its fairness metrics"
      ]
    },
    {
      "cell_type": "code",
      "execution_count": 83,
      "metadata": {
        "id": "6UKdkww7zYf5"
      },
      "outputs": [],
      "source": [
        "scale_transf = StandardScaler()\n",
        "X_train = scale_transf.fit_transform(dataset_transf_train.features)\n",
        "y_train = dataset_transf_train.labels.ravel()\n",
        "\n",
        "lmod = LogisticRegression()\n",
        "lmod.fit(X_train, y_train)\n",
        "y_train_pred = lmod.predict(X_train)\n",
        "\n",
        "dataset_transf_train_pred = dataset_transf_train.copy()\n",
        "dataset_transf_train_pred.labels = y_train_pred"
      ]
    },
    {
      "cell_type": "markdown",
      "metadata": {
        "id": "6repqBuJzYf5"
      },
      "source": [
        "### Predictions and fairness metrics from transformed test set"
      ]
    },
    {
      "cell_type": "code",
      "execution_count": 84,
      "metadata": {
        "id": "22YQtsq4zYf5"
      },
      "outputs": [],
      "source": [
        "dataset_transf_test_pred = dataset_transf_test.copy(deepcopy=True)\n",
        "X_test = scale_transf.transform(dataset_transf_test_pred.features)\n",
        "y_test = dataset_transf_test_pred.labels\n",
        "dataset_transf_test_pred.scores = lmod.predict_proba(X_test)[:,pos_ind].reshape(-1,1)"
      ]
    },
    {
      "cell_type": "code",
      "execution_count": 85,
      "metadata": {
        "id": "PgTBWJJYzYf5",
        "colab": {
          "base_uri": "https://localhost:8080/",
          "height": 309
        },
        "outputId": "7ae50744-d68b-4a0d-c452-061ec4f84f88",
        "collapsed": true
      },
      "outputs": [
        {
          "output_type": "display_data",
          "data": {
            "text/plain": [
              "<IPython.core.display.Markdown object>"
            ],
            "text/markdown": "#### Predictions from transformed testing data"
          },
          "metadata": {}
        },
        {
          "output_type": "display_data",
          "data": {
            "text/plain": [
              "<IPython.core.display.Markdown object>"
            ],
            "text/markdown": "#### Testing set"
          },
          "metadata": {}
        },
        {
          "output_type": "display_data",
          "data": {
            "text/plain": [
              "<IPython.core.display.Markdown object>"
            ],
            "text/markdown": "##### Transformed predictions - No fairness constraints"
          },
          "metadata": {}
        },
        {
          "output_type": "stream",
          "name": "stderr",
          "text": [
            " 38%|███▊      | 38/100 [00:00<00:00, 76.52it/s]"
          ]
        },
        {
          "output_type": "stream",
          "name": "stdout",
          "text": [
            "Balanced accuracy = 0.7018\n",
            "Statistical parity difference = -0.0867\n",
            "Disparate impact = 0.7490\n",
            "Average odds difference = -0.0678\n",
            "Equal opportunity difference = -0.0696\n",
            "Theil index = 0.1476\n"
          ]
        },
        {
          "output_type": "stream",
          "name": "stderr",
          "text": [
            " 66%|██████▌   | 66/100 [00:00<00:00, 84.74it/s]/usr/local/lib/python3.10/dist-packages/aif360/metrics/dataset_metric.py:82: RuntimeWarning: invalid value encountered in scalar divide\n",
            "  return metric_fun(privileged=False) / metric_fun(privileged=True)\n",
            "100%|██████████| 100/100 [00:01<00:00, 89.10it/s]\n"
          ]
        }
      ],
      "source": [
        "display(Markdown(\"#### Predictions from transformed testing data\"))\n",
        "\n",
        "bal_acc_arr_transf = []\n",
        "disp_imp_arr_transf = []\n",
        "avg_odds_diff_arr_transf = []\n",
        "\n",
        "display(Markdown(\"#### Testing set\"))\n",
        "display(Markdown(\"##### Transformed predictions - No fairness constraints\"))\n",
        "\n",
        "for thresh in tqdm(class_thresh_arr):\n",
        "\n",
        "    fav_inds = dataset_transf_test_pred.scores > thresh\n",
        "    dataset_transf_test_pred.labels[fav_inds] = dataset_transf_test_pred.favorable_label\n",
        "    dataset_transf_test_pred.labels[~fav_inds] = dataset_transf_test_pred.unfavorable_label\n",
        "\n",
        "    if (thresh == best_class_thresh):\n",
        "        disp = True\n",
        "    else:\n",
        "        disp = False\n",
        "\n",
        "    metric_test_bef = compute_metrics(dataset_transf_test, dataset_transf_test_pred,\n",
        "                                       unprivileged_groups, privileged_groups, disp=disp)\n",
        "\n",
        "    bal_acc_arr_transf.append(metric_test_bef[\"Balanced accuracy\"])\n",
        "    avg_odds_diff_arr_transf.append(metric_test_bef[\"Average odds difference\"])\n",
        "    disp_imp_arr_transf.append(metric_test_bef[\"Disparate impact\"])"
      ]
    },
    {
      "cell_type": "code",
      "execution_count": 86,
      "metadata": {
        "id": "hW-3dIBxzYf5",
        "colab": {
          "base_uri": "https://localhost:8080/",
          "height": 630
        },
        "outputId": "a1ec058f-d09a-49f4-c3e8-990603051a23",
        "collapsed": true
      },
      "outputs": [
        {
          "output_type": "display_data",
          "data": {
            "text/plain": [
              "<Figure size 1000x700 with 2 Axes>"
            ],
            "image/png": "[encoded data removed]"
          },
          "metadata": {}
        }
      ],
      "source": [
        "fig, ax1 = plt.subplots(figsize=(10,7))\n",
        "ax1.plot(class_thresh_arr, bal_acc_arr_transf)\n",
        "ax1.set_xlabel('Classification Thresholds', fontsize=16, fontweight='bold')\n",
        "ax1.set_ylabel('Balanced Accuracy', color='b', fontsize=16, fontweight='bold')\n",
        "ax1.xaxis.set_tick_params(labelsize=14)\n",
        "ax1.yaxis.set_tick_params(labelsize=14)\n",
        "\n",
        "\n",
        "ax2 = ax1.twinx()\n",
        "ax2.plot(class_thresh_arr, np.abs(1.0-np.array(disp_imp_arr_transf)), color='r')\n",
        "ax2.set_ylabel('abs(1-disparate impact)', color='r', fontsize=16, fontweight='bold')\n",
        "ax2.axvline(np.array(class_thresh_arr)[best_ind],\n",
        "            color='k', linestyle=':')\n",
        "ax2.yaxis.set_tick_params(labelsize=14)\n",
        "ax2.grid(True)\n",
        "\n",
        "disp_imp_at_best_bal_acc_transf = np.abs(1.0-np.array(disp_imp_arr_transf))[best_ind]"
      ]
    },
    {
      "cell_type": "markdown",
      "metadata": {
        "id": "FE7StZL7zYf6"
      },
      "source": [
        "```abs(1-disparate impact)``` must be close to zero for classifier predictions to be fair. This measure has improved using classifier trained using the transformed data compared to the original data.\n"
      ]
    },
    {
      "cell_type": "code",
      "execution_count": 87,
      "metadata": {
        "id": "H33Cg23uzYf6"
      },
      "outputs": [],
      "source": [
        "### testing\n",
        "assert disp_imp_at_best_bal_acc_transf < disp_imp_at_best_bal_acc_orig"
      ]
    }
  ],
  "metadata": {
    "kernelspec": {
      "display_name": "Python 2",
      "language": "python",
      "name": "python2"
    },
    "language_info": {
      "codemirror_mode": {
        "name": "ipython",
        "version": 2
      },
      "file_extension": ".py",
      "mimetype": "text/x-python",
      "name": "python",
      "nbconvert_exporter": "python",
      "pygments_lexer": "ipython2",
      "version": "2.7.10"
    },
    "colab": {
      "provenance": [],
      "include_colab_link": true
    }
  },
  "nbformat": 4,
  "nbformat_minor": 0
}